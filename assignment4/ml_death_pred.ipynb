{
 "cells": [
  {
   "cell_type": "code",
   "execution_count": 0,
   "metadata": {
    "application/vnd.databricks.v1+cell": {
     "cellMetadata": {
      "byteLimit": 2048000,
      "rowLimit": 10000
     },
     "inputWidgets": {},
     "nuid": "e733082a-1f62-4739-8ec3-6a3296b15095",
     "showTitle": false,
     "tableResultSettingsMap": {},
     "title": ""
    }
   },
   "outputs": [],
   "source": [
    "import evidently\n",
    "import pandas as pd\n",
    "from scipy import stats\n",
    "from sklearn.model_selection import train_test_split\n",
    "from evidently.ui.workspace import CloudWorkspace\n",
    "from evidently.sdk.models import PanelMetric\n",
    "from evidently.sdk.panels import DashboardPanelPlot\n",
    "from evidently.presets import DataDriftPreset\n",
    "import xgboost as xgb\n",
    "from sklearn.metrics import mean_squared_error, r2_score"
   ]
  },
  {
   "cell_type": "markdown",
   "metadata": {
    "application/vnd.databricks.v1+cell": {
     "cellMetadata": {
      "byteLimit": 2048000,
      "rowLimit": 10000
     },
     "inputWidgets": {},
     "nuid": "73ac54b2-032a-4760-96f2-10d78cc0523f",
     "showTitle": false,
     "tableResultSettingsMap": {},
     "title": ""
    }
   },
   "source": [
    "### Data Preparation"
   ]
  },
  {
   "cell_type": "code",
   "execution_count": 0,
   "metadata": {
    "application/vnd.databricks.v1+cell": {
     "cellMetadata": {
      "byteLimit": 2048000,
      "rowLimit": 10000
     },
     "inputWidgets": {},
     "nuid": "0c091952-54a9-4948-8892-ee09ae568cd9",
     "showTitle": false,
     "tableResultSettingsMap": {},
     "title": ""
    }
   },
   "outputs": [],
   "source": [
    "df = pd.read_csv('cancer_reg.csv', engine='python', encoding='latin1')\n",
    "df.head()"
   ]
  },
  {
   "cell_type": "code",
   "execution_count": 0,
   "metadata": {
    "application/vnd.databricks.v1+cell": {
     "cellMetadata": {
      "byteLimit": 2048000,
      "rowLimit": 10000
     },
     "inputWidgets": {},
     "nuid": "116047a5-bae2-48eb-abfb-f35056d4a944",
     "showTitle": false,
     "tableResultSettingsMap": {},
     "title": ""
    }
   },
   "outputs": [],
   "source": [
    "df.describe()"
   ]
  },
  {
   "cell_type": "code",
   "execution_count": 0,
   "metadata": {
    "application/vnd.databricks.v1+cell": {
     "cellMetadata": {
      "byteLimit": 2048000,
      "rowLimit": 10000
     },
     "inputWidgets": {},
     "nuid": "c0f5313e-afb9-402f-90eb-3ef2a3805087",
     "showTitle": false,
     "tableResultSettingsMap": {},
     "title": ""
    }
   },
   "outputs": [],
   "source": [
    "df.isna().sum()"
   ]
  },
  {
   "cell_type": "markdown",
   "metadata": {
    "application/vnd.databricks.v1+cell": {
     "cellMetadata": {
      "byteLimit": 2048000,
      "rowLimit": 10000
     },
     "inputWidgets": {},
     "nuid": "6e0bc45d-15de-477a-95f7-715a0fdca161",
     "showTitle": false,
     "tableResultSettingsMap": {},
     "title": ""
    }
   },
   "source": [
    "Based on the size of the dataset, we're better off just removing the columns with NA values rather than removing rows with NA values (not enough rows would be left over for training/testing). The two non-numerical features will not provide additional power in predicting death rates, so we remove those as well. We also assume no data cleaning/engineering is required since this dataset was already pre-processed and aggregated."
   ]
  },
  {
   "cell_type": "code",
   "execution_count": 0,
   "metadata": {
    "application/vnd.databricks.v1+cell": {
     "cellMetadata": {
      "byteLimit": 2048000,
      "rowLimit": 10000
     },
     "inputWidgets": {},
     "nuid": "5a87bd78-e1c9-4bf5-99be-f2e55c3f4699",
     "showTitle": false,
     "tableResultSettingsMap": {},
     "title": ""
    }
   },
   "outputs": [],
   "source": [
    "cols_to_remove = ['PctSomeCol18_24', 'PctEmployed16_Over', 'PctPrivateCoverageAlone', 'Geography', 'binnedInc']\n",
    "\n",
    "X = df.drop(cols_to_remove, axis=1)\n",
    "y = df['TARGET_deathRate']\n",
    "X = X.drop(['TARGET_deathRate'], axis=1)\n",
    "X_train, X_test, y_train, y_test = train_test_split(X, y, test_size=0.2, random_state=24)"
   ]
  },
  {
   "cell_type": "markdown",
   "metadata": {
    "application/vnd.databricks.v1+cell": {
     "cellMetadata": {
      "byteLimit": 2048000,
      "rowLimit": 10000
     },
     "inputWidgets": {},
     "nuid": "f1e7280b-7072-4d34-8f45-7d02bf636d97",
     "showTitle": false,
     "tableResultSettingsMap": {},
     "title": ""
    }
   },
   "source": [
    "### Data Modeling"
   ]
  },
  {
   "cell_type": "code",
   "execution_count": 0,
   "metadata": {
    "application/vnd.databricks.v1+cell": {
     "cellMetadata": {
      "byteLimit": 2048000,
      "rowLimit": 10000
     },
     "inputWidgets": {},
     "nuid": "82030af9-9c90-4338-be50-f144b42d2c2b",
     "showTitle": false,
     "tableResultSettingsMap": {},
     "title": ""
    }
   },
   "outputs": [],
   "source": [
    "params = {\n",
    "    'objective': 'reg:squarederror',\n",
    "    'max_depth': 5,\n",
    "    'learning_rate': 0.1,\n",
    "    'n_estimators': 100,\n",
    "    'random_state': 24\n",
    "}\n",
    "\n",
    "xgb_model = xgb.XGBRegressor(**params)\n",
    "xgb_model.fit(X_train, y_train)\n",
    "\n",
    "baseline_preds = xgb_model.predict(X_train)\n",
    "test0_preds = xgb_model.predict(X_test)\n",
    "rmse_0 = mean_squared_error(y_test, test0_preds, squared=False)\n",
    "r2_0 = r2_score(y_test, test0_preds)\n",
    "\n",
    "X_train['prediction'] = baseline_preds\n",
    "X_test['prediction'] = test0_preds"
   ]
  },
  {
   "cell_type": "code",
   "execution_count": 0,
   "metadata": {
    "application/vnd.databricks.v1+cell": {
     "cellMetadata": {
      "byteLimit": 2048000,
      "rowLimit": 10000
     },
     "inputWidgets": {},
     "nuid": "25973069-761b-4597-8c47-469def29c21d",
     "showTitle": false,
     "tableResultSettingsMap": {},
     "title": ""
    }
   },
   "outputs": [],
   "source": [
    "print(\"RMSE: \",rmse_0)\n",
    "print(\"R^2: \",r2_0)"
   ]
  },
  {
   "cell_type": "markdown",
   "metadata": {
    "application/vnd.databricks.v1+cell": {
     "cellMetadata": {
      "byteLimit": 2048000,
      "rowLimit": 10000
     },
     "inputWidgets": {},
     "nuid": "5f67f6ab-112f-400d-b86b-e18df3376dd9",
     "showTitle": false,
     "tableResultSettingsMap": {},
     "title": ""
    }
   },
   "source": [
    "### Evidently - Model Monitoring"
   ]
  },
  {
   "cell_type": "code",
   "execution_count": 0,
   "metadata": {
    "application/vnd.databricks.v1+cell": {
     "cellMetadata": {
      "byteLimit": 2048000,
      "rowLimit": 10000
     },
     "inputWidgets": {},
     "nuid": "f3e76c3c-0fd0-41c4-98d8-02992a8771d4",
     "showTitle": false,
     "tableResultSettingsMap": {},
     "title": ""
    }
   },
   "outputs": [],
   "source": [
    "ev_token = 'dG9rbgGixxnNEBJJA6lXh/ZSB2srwlmhvp8jwZc5uThynL04zwBQ6q33qkY2pvGRBihzroyJ7ubfXTn6yyPpI4bpXlgf0Tt8IX1HWxTotYm3fvGcVLNVkq7o/y+VYfPfWgi7OLUSHZZgnfSjwpFd5IkcS0DH3PiROAST'\n",
    "org_id = '019848b2-2e4a-79c3-82f9-746d245392f0'\n",
    "\n",
    "ws = CloudWorkspace(token=ev_token, url=\"https://app.evidently.cloud\")\n",
    "\n",
    "project = ws.create_project(\"assignment4\", org_id=org_id)\n",
    "project.description = \"Model Monitoring Exercise\"\n",
    "project.save()"
   ]
  },
  {
   "cell_type": "code",
   "execution_count": 0,
   "metadata": {
    "application/vnd.databricks.v1+cell": {
     "cellMetadata": {
      "byteLimit": 2048000,
      "rowLimit": 10000
     },
     "inputWidgets": {},
     "nuid": "22c61bdc-8f9d-4e72-b8c5-25939a58744c",
     "showTitle": false,
     "tableResultSettingsMap": {},
     "title": ""
    }
   },
   "outputs": [],
   "source": [
    "all_cols = X_train.columns.to_list()\n",
    "all_cols.append('prediction')\n",
    "\n",
    "schema = evidently.DataDefinition(\n",
    "    numerical_columns=all_cols\n",
    ")\n",
    "\n",
    "\n",
    "ev_train_data = evidently.Dataset.from_pandas(\n",
    "    X_train,\n",
    "    data_definition=schema\n",
    ")\n",
    "\n",
    "ev_test0_data = evidently.Dataset.from_pandas(\n",
    "    X_test,\n",
    "    data_definition=schema\n",
    ")"
   ]
  },
  {
   "cell_type": "code",
   "execution_count": 0,
   "metadata": {
    "application/vnd.databricks.v1+cell": {
     "cellMetadata": {
      "byteLimit": 2048000,
      "rowLimit": 10000
     },
     "inputWidgets": {},
     "nuid": "770749e7-4ab8-4f9e-9667-7efba09121a8",
     "showTitle": false,
     "tableResultSettingsMap": {},
     "title": ""
    }
   },
   "outputs": [],
   "source": [
    "drift_report = evidently.Report([\n",
    "    DataDriftPreset(drift_share=0.1)\n",
    "])\n",
    "\n",
    "run0 = drift_report.run(ev_test0_data, ev_train_data)"
   ]
  },
  {
   "cell_type": "code",
   "execution_count": 0,
   "metadata": {
    "application/vnd.databricks.v1+cell": {
     "cellMetadata": {
      "byteLimit": 2048000,
      "rowLimit": 10000
     },
     "inputWidgets": {},
     "nuid": "245b0aa8-98b4-4b2c-b0b5-a83cfa3451cf",
     "showTitle": false,
     "tableResultSettingsMap": {},
     "title": ""
    }
   },
   "outputs": [],
   "source": [
    "# project_id = \"01984a6e-1fb9-7f5a-80c7-e6fcb0d637b0\"\n",
    "# project = ws.get_project(project_id)\n",
    "ws.add_run(project.id, run0, include_data=False)"
   ]
  },
  {
   "cell_type": "markdown",
   "metadata": {
    "application/vnd.databricks.v1+cell": {
     "cellMetadata": {
      "byteLimit": 2048000,
      "rowLimit": 10000
     },
     "inputWidgets": {},
     "nuid": "9616374d-7a69-481f-8587-c3d6e84ced00",
     "showTitle": false,
     "tableResultSettingsMap": {},
     "title": ""
    }
   },
   "source": [
    "### Change A"
   ]
  },
  {
   "cell_type": "code",
   "execution_count": 0,
   "metadata": {
    "application/vnd.databricks.v1+cell": {
     "cellMetadata": {
      "byteLimit": 2048000,
      "rowLimit": 10000
     },
     "inputWidgets": {},
     "nuid": "22044e03-8074-41fc-98e2-5c14d850a156",
     "showTitle": false,
     "tableResultSettingsMap": {},
     "title": ""
    }
   },
   "outputs": [],
   "source": [
    "X_test = X_test.drop(['prediction'], axis=1)\n",
    "X_test['medIncome'] = X_test['medIncome'] - 40000\n",
    "test1_preds = xgb_model.predict(X_test)\n",
    "rmse1 = mean_squared_error(y_test, test1_preds, squared=False)\n",
    "r2_1 = r2_score(y_test, test1_preds)\n",
    "\n",
    "X_test['prediction'] = test1_preds\n",
    "ev_test1_data = evidently.Dataset.from_pandas(\n",
    "    X_test,\n",
    "    data_definition=schema\n",
    ")\n",
    "\n",
    "run1 = drift_report.run(ev_test1_data, ev_train_data)\n",
    "ws.add_run(project.id, run1, include_data=False)"
   ]
  },
  {
   "cell_type": "code",
   "execution_count": 0,
   "metadata": {
    "application/vnd.databricks.v1+cell": {
     "cellMetadata": {
      "byteLimit": 2048000,
      "rowLimit": 10000
     },
     "inputWidgets": {},
     "nuid": "5be88381-b87f-4645-9cba-12bae7940eb7",
     "showTitle": false,
     "tableResultSettingsMap": {},
     "title": ""
    }
   },
   "outputs": [],
   "source": [
    "print(\"RMSE: \",rmse1)\n",
    "print(\"R^2: \",r2_1)"
   ]
  },
  {
   "cell_type": "markdown",
   "metadata": {
    "application/vnd.databricks.v1+cell": {
     "cellMetadata": {
      "byteLimit": 2048000,
      "rowLimit": 10000
     },
     "inputWidgets": {},
     "nuid": "0833bf5b-45d2-43b9-b251-2cc78e756de9",
     "showTitle": false,
     "tableResultSettingsMap": {},
     "title": ""
    }
   },
   "source": [
    "### Change B"
   ]
  },
  {
   "cell_type": "code",
   "execution_count": 0,
   "metadata": {
    "application/vnd.databricks.v1+cell": {
     "cellMetadata": {
      "byteLimit": 2048000,
      "rowLimit": 10000
     },
     "inputWidgets": {},
     "nuid": "76c69969-6e4d-4330-9193-a2f6d10a2f88",
     "showTitle": false,
     "tableResultSettingsMap": {},
     "title": ""
    }
   },
   "outputs": [],
   "source": [
    "X_test = X_test.drop(['prediction'], axis=1)\n",
    "X_test['povertyPercent'] = X_test['povertyPercent'] + 20\n",
    "test2_preds = xgb_model.predict(X_test)\n",
    "rmse2 = mean_squared_error(y_test, test2_preds, squared=False)\n",
    "r2_2 = r2_score(y_test, test2_preds)\n",
    "X_test['prediction'] = test2_preds\n",
    "ev_test2_data = evidently.Dataset.from_pandas(\n",
    "    X_test,\n",
    "    data_definition=schema\n",
    ")\n",
    "\n",
    "run2 = drift_report.run(ev_test2_data, ev_train_data)\n",
    "ws.add_run(project.id, run2, include_data=False)"
   ]
  },
  {
   "cell_type": "code",
   "execution_count": 0,
   "metadata": {
    "application/vnd.databricks.v1+cell": {
     "cellMetadata": {
      "byteLimit": 2048000,
      "rowLimit": 10000
     },
     "inputWidgets": {},
     "nuid": "671a20dd-ec81-41ad-abb1-fd7009b25830",
     "showTitle": false,
     "tableResultSettingsMap": {},
     "title": ""
    }
   },
   "outputs": [],
   "source": [
    "print(\"RMSE: \",rmse2)\n",
    "print(\"R^2: \",r2_2)"
   ]
  },
  {
   "cell_type": "markdown",
   "metadata": {
    "application/vnd.databricks.v1+cell": {
     "cellMetadata": {
      "byteLimit": 2048000,
      "rowLimit": 10000
     },
     "inputWidgets": {},
     "nuid": "b160d71a-1a63-4a7e-96f8-129c6a85c1cb",
     "showTitle": false,
     "tableResultSettingsMap": {},
     "title": ""
    }
   },
   "source": [
    "### Change C"
   ]
  },
  {
   "cell_type": "code",
   "execution_count": 0,
   "metadata": {
    "application/vnd.databricks.v1+cell": {
     "cellMetadata": {
      "byteLimit": 2048000,
      "rowLimit": 10000
     },
     "inputWidgets": {},
     "nuid": "40aaab8d-7177-4caf-b1a5-b8135a2de217",
     "showTitle": false,
     "tableResultSettingsMap": {},
     "title": ""
    }
   },
   "outputs": [],
   "source": [
    "X_test = X_test.drop(['prediction'], axis=1)\n",
    "X_test['AvgHouseholdSize'] = X_test['AvgHouseholdSize'] + 2\n",
    "test3_preds = xgb_model.predict(X_test)\n",
    "rmse3 = mean_squared_error(y_test, test3_preds, squared=False)\n",
    "r2_3 = r2_score(y_test, test3_preds)\n",
    "X_test['prediction'] = test3_preds\n",
    "ev_test3_data = evidently.Dataset.from_pandas(\n",
    "    X_test,\n",
    "    data_definition=schema\n",
    ")\n",
    "\n",
    "run3 = drift_report.run(ev_test3_data, ev_train_data)\n",
    "ws.add_run(project.id, run3, include_data=False)"
   ]
  },
  {
   "cell_type": "code",
   "execution_count": 0,
   "metadata": {
    "application/vnd.databricks.v1+cell": {
     "cellMetadata": {
      "byteLimit": 2048000,
      "rowLimit": 10000
     },
     "inputWidgets": {},
     "nuid": "912c55e3-be7b-4ea5-8eca-a1f31025b133",
     "showTitle": false,
     "tableResultSettingsMap": {},
     "title": ""
    }
   },
   "outputs": [],
   "source": [
    "print(\"RMSE: \",rmse3)\n",
    "print(\"R^2: \",r2_3)"
   ]
  },
  {
   "cell_type": "code",
   "execution_count": 0,
   "metadata": {
    "application/vnd.databricks.v1+cell": {
     "cellMetadata": {
      "byteLimit": 2048000,
      "rowLimit": 10000
     },
     "inputWidgets": {},
     "nuid": "054966fa-96c0-4630-86eb-eb23232e5197",
     "showTitle": false,
     "tableResultSettingsMap": {},
     "title": ""
    }
   },
   "outputs": [],
   "source": [
    "project.dashboard.add_panel(\n",
    "    DashboardPanelPlot(\n",
    "        title=\"Feature + Prediction column drift\",\n",
    "        subtitle = \"Share of drifted columns\",\n",
    "        size=\"half\",\n",
    "        values=[\n",
    "            PanelMetric(\n",
    "                legend=\"Share\",\n",
    "                metric=\"DriftedColumnsCount\",\n",
    "                metric_labels={\"value_type\": \"share\"} \n",
    "            ),\n",
    "        ],\n",
    "        plot_params={\"plot_type\": \"line\"},\n",
    "    ),\n",
    "    tab=\"Data Drift\"\n",
    ")\n",
    "project.dashboard.add_panel(\n",
    "    DashboardPanelPlot(\n",
    "        title=\"Prediction drift\",\n",
    "        subtitle = \"\"\"Drift in the prediction column, method: Jensen-Shannon distance\"\"\",\n",
    "        size=\"half\",\n",
    "        values=[\n",
    "            PanelMetric(\n",
    "                legend=\"Drift score\",\n",
    "                metric=\"ValueDrift\",\n",
    "                metric_labels={\"column\": \"prediction\"} \n",
    "            ),\n",
    "        ],\n",
    "        plot_params={\"plot_type\": \"bar\"},\n",
    "    ),\n",
    "    tab=\"Data Drift\"\n",
    ")"
   ]
  }
 ],
 "metadata": {
  "application/vnd.databricks.v1+notebook": {
   "computePreferences": null,
   "dashboards": [],
   "environmentMetadata": {
    "base_environment": "",
    "environment_version": "2"
   },
   "inputWidgetPreferences": null,
   "language": "python",
   "notebookMetadata": {
    "pythonIndentUnit": 4
   },
   "notebookName": "ml_death_pred",
   "widgets": {}
  },
  "language_info": {
   "name": "python"
  }
 },
 "nbformat": 4,
 "nbformat_minor": 0
}
